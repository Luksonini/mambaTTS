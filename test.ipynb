{
 "cells": [
  {
   "cell_type": "code",
   "execution_count": 1,
   "id": "1b685eab",
   "metadata": {},
   "outputs": [
    {
     "name": "stdout",
     "output_type": "stream",
     "text": [
      "Klucze w pliku: ['text', 'text_tokens', 'words', 'audio_codes', 'sample_rate', 'start_time', 'end_time', 'duration', 'chunk_idx_in_batch', 'global_chunk_idx', 'batch_idx', 'word_count', 'has_overlap', 'overlap_words', 'clean_chunk', 'boundary_type', 'sequential_chunk', 'audio_tokens', 'text_token_count']\n",
      "  text: <class 'str'> → byłoby samej palęgi, gdyby nie wojna, która przed ponad dwudziestoma laty przywędrowała na ich ziemię.\n",
      "  text_tokens: Tensor, shape = (100,), dtype = torch.int64\n",
      "  words: <class 'list'> → [{'word': 'byłoby', 'start': 108.363, 'end': 108.663, 'confidence': 0.912, 'segment_idx': 14}, {'word': 'samej', 'start': 108.703, 'end': 108.983, 'confidence': 0.916, 'segment_idx': 14}, {'word': 'palęgi,', 'start': 109.063, 'end': 110.283, 'confidence': 0.876, 'segment_idx': 14}, {'word': 'gdyby', 'start': 110.323, 'end': 110.603, 'confidence': 0.999, 'segment_idx': 14}, {'word': 'nie', 'start': 110.643, 'end': 110.943, 'confidence': 0.657, 'segment_idx': 14}, {'word': 'wojna,', 'start': 111.003, 'end': 111.563, 'confidence': 0.958, 'segment_idx': 14}, {'word': 'która', 'start': 111.583, 'end': 111.984, 'confidence': 0.927, 'segment_idx': 14}, {'word': 'przed', 'start': 112.044, 'end': 112.384, 'confidence': 0.917, 'segment_idx': 14}, {'word': 'ponad', 'start': 112.464, 'end': 112.844, 'confidence': 0.948, 'segment_idx': 14}, {'word': 'dwudziestoma', 'start': 112.884, 'end': 113.384, 'confidence': 0.914, 'segment_idx': 14}, {'word': 'laty', 'start': 113.424, 'end': 113.644, 'confidence': 0.822, 'segment_idx': 14}, {'word': 'przywędrowała', 'start': 113.664, 'end': 114.344, 'confidence': 0.938, 'segment_idx': 14}, {'word': 'na', 'start': 114.384, 'end': 114.484, 'confidence': 0.952, 'segment_idx': 14}, {'word': 'ich', 'start': 114.564, 'end': 114.824, 'confidence': 0.747, 'segment_idx': 14}, {'word': 'ziemię.', 'start': 114.944, 'end': 116.445, 'confidence': 0.804, 'segment_idx': 14}]\n",
      "  audio_codes: Tensor, shape = (8, 607), dtype = torch.int64\n",
      "  sample_rate: <class 'int'> → 24000\n",
      "  start_time: <class 'float'> → 108.363\n",
      "  end_time: <class 'float'> → 116.445\n",
      "  duration: <class 'float'> → 8.081999999999994\n",
      "  chunk_idx_in_batch: <class 'int'> → 0\n",
      "  global_chunk_idx: <class 'int'> → 12\n",
      "  batch_idx: <class 'int'> → 3\n",
      "  word_count: <class 'int'> → 15\n",
      "  has_overlap: <class 'bool'> → False\n",
      "  overlap_words: <class 'int'> → 0\n",
      "  clean_chunk: <class 'bool'> → True\n",
      "  boundary_type: <class 'str'> → clean\n",
      "  sequential_chunk: <class 'bool'> → True\n",
      "  audio_tokens: <class 'int'> → 607\n",
      "  text_token_count: <class 'int'> → 100\n"
     ]
    },
    {
     "name": "stderr",
     "output_type": "stream",
     "text": [
      "/tmp/ipykernel_1926167/776237346.py:5: FutureWarning: You are using `torch.load` with `weights_only=False` (the current default value), which uses the default pickle module implicitly. It is possible to construct malicious pickle data which will execute arbitrary code during unpickling (See https://github.com/pytorch/pytorch/blob/main/SECURITY.md#untrusted-models for more details). In a future release, the default value for `weights_only` will be flipped to `True`. This limits the functions that could be executed during unpickling. Arbitrary objects will no longer be allowed to be loaded via this mode unless they are explicitly allowlisted by the user via `torch.serialization.add_safe_globals`. We recommend you start setting `weights_only=True` for any use case where you don't have full control of the loaded file. Please open an issue on GitHub for any issues related to this experimental feature.\n",
      "  data = torch.load(path)\n"
     ]
    }
   ],
   "source": [
    "import torch\n",
    "\n",
    "# 1. Wczytaj plik .pt\n",
    "path = \"no_overlap_data/clean_batch_03/chunk_00_108.4-116.4s.pt\"\n",
    "data = torch.load(path)\n",
    "\n",
    "# 2. Zobacz, jakie klucze są w słowniku\n",
    "print(\"Klucze w pliku:\", list(data.keys()))\n",
    "\n",
    "# 3. Dla każdego klucza wypisz typ i – jeśli to tensor – jego kształt\n",
    "for k, v in data.items():\n",
    "    if torch.is_tensor(v):\n",
    "        print(f\"  {k}: Tensor, shape = {tuple(v.shape)}, dtype = {v.dtype}\")\n",
    "    else:\n",
    "        print(f\"  {k}: {type(v)} → {v}\")\n"
   ]
  },
  {
   "cell_type": "code",
   "execution_count": null,
   "id": "3cecdd5f",
   "metadata": {},
   "outputs": [],
   "source": []
  }
 ],
 "metadata": {
  "kernelspec": {
   "display_name": "uvtts2",
   "language": "python",
   "name": "python3"
  },
  "language_info": {
   "codemirror_mode": {
    "name": "ipython",
    "version": 3
   },
   "file_extension": ".py",
   "mimetype": "text/x-python",
   "name": "python",
   "nbconvert_exporter": "python",
   "pygments_lexer": "ipython3",
   "version": "3.11.12"
  }
 },
 "nbformat": 4,
 "nbformat_minor": 5
}
